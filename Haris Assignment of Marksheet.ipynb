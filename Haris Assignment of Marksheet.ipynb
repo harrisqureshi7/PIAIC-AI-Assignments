{
 "cells": [
  {
   "cell_type": "markdown",
   "metadata": {},
   "source": [
    "Assignment \"Marksheet\"\n",
    "Name : Haris Qureshi\n",
    "Roll no : AIC040539\n",
    "Shift : 12:15 to 03:15"
   ]
  },
  {
   "cell_type": "code",
   "execution_count": 1,
   "metadata": {},
   "outputs": [
    {
     "name": "stdout",
     "output_type": "stream",
     "text": [
      "Enter Subject 1 name : english\n",
      "Enter Subject 2 name : maths\n",
      "Enter Subject 3 name : physics\n",
      "Enter Subject 1 marks : 65\n",
      "Enter Subject 2 marks : 98\n",
      "Enter Subject 3 marks : 89\n",
      "84.0\n"
     ]
    }
   ],
   "source": [
    "#Marksheet\n",
    " \n",
    "subject1 = input(\"Enter Subject 1 name : \")\n",
    "subject2 = input(\"Enter Subject 2 name : \")\n",
    "subject3 = input(\"Enter Subject 3 name : \")\n",
    "   \n",
    "sub1 = float(input(\"Enter Subject 1 marks : \"))\n",
    "sub2 = float(input(\"Enter Subject 2 marks : \"))\n",
    "sub3 = float(input(\"Enter Subject 3 marks : \"))\n",
    "\n",
    "sum = sub1 + sub2 + sub3\n",
    "total = 300\n",
    "percentage = (sum/total)*100\n",
    "print(percentage)\n",
    "\n",
    "import csv\n",
    "with open(\"Haris Assignment 1 marksheet.csv\",\"w\", newline = \"\") as f:\n",
    "    data_handler = csv.writer(f, delimiter=\",\")\n",
    "    data_handler.writerow([subject1,sub1,100])\n",
    "    data_handler.writerow([subject2,sub2,100])\n",
    "    data_handler.writerow([subject3,sub3,100])\n",
    "\n",
    "    data_handler.writerow([\"\",\"Percentage\",percentage])\n"
   ]
  },
  {
   "cell_type": "code",
   "execution_count": null,
   "metadata": {},
   "outputs": [],
   "source": []
  },
  {
   "cell_type": "code",
   "execution_count": null,
   "metadata": {},
   "outputs": [],
   "source": []
  }
 ],
 "metadata": {
  "kernelspec": {
   "display_name": "py36-test",
   "language": "python",
   "name": "py36-test"
  },
  "language_info": {
   "codemirror_mode": {
    "name": "ipython",
    "version": 3
   },
   "file_extension": ".py",
   "mimetype": "text/x-python",
   "name": "python",
   "nbconvert_exporter": "python",
   "pygments_lexer": "ipython3",
   "version": "3.6.8"
  }
 },
 "nbformat": 4,
 "nbformat_minor": 2
}
